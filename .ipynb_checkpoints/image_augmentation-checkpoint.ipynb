{
 "cells": [
  {
   "cell_type": "code",
   "execution_count": 1,
   "metadata": {},
   "outputs": [
    {
     "name": "stderr",
     "output_type": "stream",
     "text": [
      "Using TensorFlow backend.\n"
     ]
    }
   ],
   "source": [
    "from keras.preprocessing.image import ImageDataGenerator\n",
    "from tqdm import tqdm_notebook as tqdm"
   ]
  },
  {
   "cell_type": "code",
   "execution_count": 2,
   "metadata": {},
   "outputs": [],
   "source": [
    "cleaned_path = 'C:\\\\Users\\\\Mher_Matevosyan\\\\Workspace\\\\Teaching\\\\jupyter\\\\AIBootcamp\\\\GAN_workshop\\\\carpets\\\\'\n",
    "augumented_path = 'C:\\\\Users\\\\Mher_Matevosyan\\\\Workspace\\\\Teaching\\\\jupyter\\\\AIBootcamp\\\\GAN_workshop\\\\carpet_aug\\\\'"
   ]
  },
  {
   "cell_type": "code",
   "execution_count": 3,
   "metadata": {},
   "outputs": [
    {
     "name": "stdout",
     "output_type": "stream",
     "text": [
      "Found 415 images belonging to 1 classes.\n"
     ]
    }
   ],
   "source": [
    "train_datagen = ImageDataGenerator(\n",
    "        rescale=1./255,\n",
    "        shear_range=0.5,\n",
    "        zoom_range=0.3,\n",
    "        rotation_range=5,\n",
    "        horizontal_flip=True,\n",
    "        vertical_flip=True)\n",
    "\n",
    "train_generator = train_datagen.flow_from_directory(directory = cleaned_path,\n",
    "                                                    target_size=(128, 96),\n",
    "                                                    batch_size=16,\n",
    "                                                    class_mode=None,\n",
    "                                                    save_to_dir = augumented_path,\n",
    "                                                    save_format = 'png',\n",
    "                                                    save_prefix = 'aug')"
   ]
  },
  {
   "cell_type": "code",
   "execution_count": null,
   "metadata": {},
   "outputs": [],
   "source": [
    "for i in tqdm(range(500)):\n",
    "    train_generator.next()"
   ]
  },
  {
   "cell_type": "code",
   "execution_count": 4,
   "metadata": {},
   "outputs": [],
   "source": [
    "import webp,os\n",
    "from PIL import Image\n",
    "from tqdm import tqdm_notebook as tqdm\n",
    "images = [i for i in os.listdir(cleaned_path) if i!='carpet']"
   ]
  },
  {
   "cell_type": "code",
   "execution_count": null,
   "metadata": {},
   "outputs": [],
   "source": [
    "for img in tqdm(images):\n",
    "    try:\n",
    "        loaded_img = webp.load_image(cleaned_path+img, 'RGBA')\n",
    "        loaded_img.save(cleaned_path+'carpet\\\\'+img)\n",
    "    except Exception as e:\n",
    "        print(e)"
   ]
  }
 ],
 "metadata": {
  "kernelspec": {
   "display_name": "Python 3",
   "language": "python",
   "name": "python3"
  },
  "language_info": {
   "codemirror_mode": {
    "name": "ipython",
    "version": 3
   },
   "file_extension": ".py",
   "mimetype": "text/x-python",
   "name": "python",
   "nbconvert_exporter": "python",
   "pygments_lexer": "ipython3",
   "version": "3.7.4"
  }
 },
 "nbformat": 4,
 "nbformat_minor": 2
}
